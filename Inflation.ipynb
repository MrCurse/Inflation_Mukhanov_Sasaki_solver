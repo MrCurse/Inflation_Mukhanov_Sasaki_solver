{
 "cells": [
  {
   "cell_type": "code",
   "execution_count": 1,
   "metadata": {},
   "outputs": [],
   "source": [
    "import numpy as np\n",
    "import matplotlib.pyplot as plt\n",
    "import matplotlib.ticker as tk\n",
    "import time\n",
    "from numba import jit\n",
    "\n",
    "plt.rc('text', usetex=True)\n",
    "plt.rc('font', family='serif')\n",
    "plt.rc('xtick',labelsize=15)\n",
    "plt.rc('ytick',labelsize=15)\n",
    "\n",
    "alpha = np.sqrt(2/3)\n",
    "beta = 6.1548146\n",
    "xi = -0.3009\n",
    "V0 = 4.7*10**-9\n",
    "\n",
    "@jit(nopython=True)\n",
    "def V(phi):\n",
    "    retval = V0*(1 + xi - np.exp(-alpha*np.tanh(phi/np.sqrt(6))) - xi*np.exp(-beta*np.tanh(phi/np.sqrt(6))**2))**2\n",
    "    return retval\n",
    "\n",
    "@jit(nopython=True)\n",
    "def dV(phi): \n",
    "    retval = 2*V0*(1 + xi - np.exp(-alpha*np.tanh(phi/np.sqrt(6))) - xi*np.exp(-beta*np.tanh(phi/np.sqrt(6))**2)) \\\n",
    "    *( (alpha*np.exp(-alpha*np.tanh(phi/np.sqrt(6)))*np.cosh(phi/np.sqrt(6))**-2)/np.sqrt(6) + np.sqrt(2/3)*beta*xi \\\n",
    "      *np.exp(-beta*np.tanh(phi/np.sqrt(6))**2)*np.tanh(phi/np.sqrt(6))*np.cosh(phi/np.sqrt(6))**-2) \n",
    "    return retval\n",
    "\n",
    "@jit(nopython=True)\n",
    "def ddV(x):\n",
    "    a1 = alpha*(np.exp( -alpha*np.tanh(x/np.sqrt(6)) )*np.cosh(x/np.sqrt(6))**-2)/np.sqrt(6) + np.sqrt(2/3)*beta*xi*np.exp( -beta*np.tanh(x/np.sqrt(6))**2 ) \\\n",
    "    *np.cosh(x/np.sqrt(6))**-2 *np.tanh(x/np.sqrt(6))\n",
    "    \n",
    "    a2 = 1 - np.exp( -alpha*np.tanh(x/np.sqrt(6)) ) + xi - xi*np.exp( -beta*np.tanh(x/np.sqrt(6))**2 )\n",
    "    \n",
    "    a3 = -(alpha/np.sqrt(6))**2 *np.exp( -alpha*np.tanh(x/np.sqrt(6)) )*np.cosh(np.sqrt(6))**-4 \\\n",
    "    + (beta*xi/3)*np.exp( -beta*np.tanh(x/np.sqrt(6))**2 )*np.cosh(x/np.sqrt(6))**-4 \\\n",
    "    + (alpha/3)*np.exp( -alpha*np.tanh(x/np.sqrt(6)) )*np.cosh(x/np.sqrt(6))**-2 *np.tanh(x/np.sqrt(6)) \\\n",
    "    + (2*beta*xi/3)*np.exp( -beta*np.tanh(x/np.sqrt(6))**2 )*np.cosh(x/np.sqrt(6))**-2 *np.tanh(x/np.sqrt(6))**2 \\\n",
    "    + (2*beta*beta*xi/3)*np.exp( -beta*np.tanh(x/np.sqrt(6))**2 )*np.cosh(x/np.sqrt(6))**-4 *np.tanh(x/np.sqrt(6))**2\n",
    "    \n",
    "    return 2*V0*a1**2 + 2*V0*a2*a3\n",
    "\n",
    "dN = 0.001\n",
    "\n",
    "'''\n",
    "Jitted function that solves the background inflaton evolution using an initial condition\n",
    "The inflaton equations are solved using the RK4 method\n",
    "'''\n",
    "@jit(nopython=True)\n",
    "def field_return(phi_in, efolds):\n",
    "    N_test = efolds\n",
    "    n = round(N_test/dN)\n",
    "    phi = np.zeros(n)\n",
    "    dphi = np.zeros(n)\n",
    "    \n",
    "    \n",
    "    phi[0] = phi_in\n",
    "    dphi[0] = -dV(phi_in)/V(phi_in)\n",
    "    \n",
    "    for i in range(n-1):\n",
    "        k0 = dN*dphi[i]\n",
    "        l0 = -dN*(3*dphi[i]-0.5*dphi[i]**3)-dN*(3-0.5*dphi[i]**2)*dV(phi[i])/V(phi[i])\n",
    "        \n",
    "        k1 = dN*(dphi[i]+0.5*l0)\n",
    "        l1 = -dN*(3*(dphi[i]+0.5*l0)-0.5*(dphi[i]+0.5*l0)**3)-dN*(3-0.5*(dphi[i]+0.5*l0)**2)*dV(phi[i]+0.5*k0)/V(phi[i]+0.5*k0)\n",
    "        \n",
    "        k2 = dN*(dphi[i]+0.5*l1)\n",
    "        l2 = -dN*(3*(dphi[i]+0.5*l1)-0.5*(dphi[i]+0.5*l1)**3)-dN*(3-0.5*(dphi[i]+0.5*l1)**2)*dV(phi[i]+0.5*k1)/V(phi[i]+0.5*k1)\n",
    "        \n",
    "        k3 = dN*(dphi[i]+l2)\n",
    "        l3 = -dN*(3*(dphi[i]+l2)-0.5*(dphi[i]+l2)**3)-dN*(3-0.5*(dphi[i]+l2)**2)*dV(phi[i]+k2)/V(phi[i]+k2)\n",
    "        \n",
    "        phi[i+1] = phi[i] + (k0 + 2*k1 + 2*k2 + k3)/6\n",
    "        dphi[i+1] = dphi[i] + (l0 + 2*l1 + 2*l2 + l3)/6\n",
    "        \n",
    "    return phi, dphi"
   ]
  },
  {
   "cell_type": "code",
   "execution_count": null,
   "metadata": {},
   "outputs": [],
   "source": []
  },
  {
   "cell_type": "code",
   "execution_count": 2,
   "metadata": {},
   "outputs": [],
   "source": [
    "N_end = 62\n",
    "n_pts = round(N_end/dN)\n",
    "N = np.linspace(0, N_end, n_pts)\n",
    "\n",
    "[phi, dphi] = field_return(6.35, N_end)\n",
    "\n",
    "eps1 = 0.5*dphi**2\n",
    "eps2 = np.gradient(eps1,dN)/eps1\n",
    "eta  = eps1 - 0.5*eps2\n",
    "deps1 = np.gradient(eps1,dN)\n",
    "deta  = np.gradient(eta,dN)\n",
    "H = np.sqrt(V(phi)/(3-eps1))\n",
    "a = 0.0186*np.exp(N)\n",
    "\n",
    "'''\n",
    "Jitted function that computes the power spectrum of curvature perturbations for specified k-modes\n",
    "The Mukhanov-Sasaki equation is solved using RK4\n",
    "'''\n",
    "@jit(nopython=True)\n",
    "def mode_evolve(k, N, phi, dphi):\n",
    "    horizon = a*H\n",
    "    Initial = 100.0*horizon\n",
    "    Final = 0.01*horizon\n",
    "    test_in = np.absolute(Initial-k); test_fin = np.absolute(Final-k)\n",
    "    Nii = np.where(test_in == np.min(test_in))[0][0]\n",
    "    Nff = np.where(test_fin == np.min(test_fin))[0][0]\n",
    "    n_ = Nff - Nii + 1\n",
    "    \n",
    "    '''\n",
    "    Bunch-Davies initial conditions\n",
    "    '''\n",
    "    \n",
    "    uk_sol = np.zeros(n_); Duk_sol = np.zeros(n_)\n",
    "    vk_sol = np.zeros(n_); Dvk_sol = np.zeros(n_)\n",
    "    \n",
    "    uk_sol[0] = 1/np.sqrt(2*k); Duk_sol[0] = 0\n",
    "    vk_sol[0] = 0; Dvk_sol[0] = -np.sqrt(k)/(0.01*np.sqrt(2)*k)\n",
    "    \n",
    "    for i in range(n_-1):\n",
    "        f1 = -(1-eps1[Nii+i])*Duk_sol[i] - (k**2 /(a[Nii+i]*H[Nii+i])**2)*uk_sol[i] - (1+eps1[Nii+i]-eta[Nii+i]) \\\n",
    "        *(eta[Nii+i]-2)*uk_sol[i] + (deps1[Nii+i]-deta[Nii+i])*uk_sol[i]\n",
    "        F1 = Duk_sol[i]\n",
    "        f2 = -(1-eps1[Nii+i])*(Duk_sol[i]+0.5*f1*dN) - (k**2 /(a[Nii+i]*H[Nii+i])**2)*(uk_sol[i]+0.5*F1*dN) - (1+eps1[Nii+i]-eta[Nii+i]) \\\n",
    "        *(eta[Nii+i]-2)*(uk_sol[i]+0.5*F1*dN) + (deps1[Nii+i]-deta[Nii+i])*(uk_sol[i]+0.5*F1*dN)\n",
    "        F2 = Duk_sol[i]+0.5*f1*dN\n",
    "        f3 = -(1-eps1[Nii+i])*(Duk_sol[i]+0.5*f2*dN) - (k**2 /(a[Nii+i]*H[Nii+i])**2)*(uk_sol[i]+0.5*F2*dN) - (1+eps1[Nii+i]-eta[Nii+i]) \\\n",
    "        *(eta[Nii+i]-2)*(uk_sol[i]+0.5*F2*dN) + (deps1[Nii+i]-deta[Nii+i])*(uk_sol[i]+0.5*F2*dN)\n",
    "        F3 = Duk_sol[i]+0.5*f2*dN\n",
    "        f4 = -(1-eps1[Nii+i])*(Duk_sol[i]+f3*dN) - (k**2 /(a[Nii+i]*H[Nii+i])**2)*(uk_sol[i]+F3*dN) - (1+eps1[Nii+i]-eta[Nii+i]) \\\n",
    "        *(eta[Nii+i]-2)*(uk_sol[i]+F3*dN) + (deps1[Nii+i]-deta[Nii+i])*(uk_sol[i]+F3*dN)\n",
    "        F4 = Duk_sol[i]+f3*dN\n",
    "        \n",
    "        Duk_sol[i+1] = Duk_sol[i] + dN*(f1 + 2*f2 + 2*f3 + f4)/6\n",
    "        uk_sol[i+1] = uk_sol[i] + dN*(F1 + 2*F2 + 2*F3 + F4)/6\n",
    "        \n",
    "        g1 = -(1-eps1[Nii+i])*Dvk_sol[i] - (k**2 /(a[Nii+i]*H[Nii+i])**2)*vk_sol[i] - (1+eps1[Nii+i]-eta[Nii+i]) \\\n",
    "        *(eta[Nii+i]-2)*vk_sol[i] + (deps1[Nii+i]-deta[Nii+i])*vk_sol[i]\n",
    "        G1 = Dvk_sol[i]\n",
    "        g2 = -(1-eps1[Nii+i])*(Dvk_sol[i]+0.5*g1*dN) - (k**2 /(a[Nii+i]*H[Nii+i])**2)*(vk_sol[i]+0.5*G1*dN) - (1+eps1[Nii+i]-eta[Nii+i]) \\\n",
    "        *(eta[Nii+i]-2)*(vk_sol[i]+0.5*G1*dN) + (deps1[Nii+i]-deta[Nii+i])*(vk_sol[i]+0.5*G1*dN)\n",
    "        G2 = Dvk_sol[i]+0.5*g1*dN\n",
    "        g3 = -(1-eps1[Nii+i])*(Dvk_sol[i]+0.5*g2*dN) - (k**2 /(a[Nii+i]*H[Nii+i])**2)*(vk_sol[i]+0.5*G2*dN) - (1+eps1[Nii+i]-eta[Nii+i]) \\\n",
    "        *(eta[Nii+i]-2)*(vk_sol[i]+0.5*G2*dN) + (deps1[Nii+i]-deta[Nii+i])*(vk_sol[i]+0.5*G2*dN)\n",
    "        G3 = Dvk_sol[i]+0.5*g2*dN\n",
    "        g4 = -(1-eps1[Nii+i])*(Dvk_sol[i]+g3*dN) - (k**2 /(a[Nii+i]*H[Nii+i])**2)*(vk_sol[i]+G3*dN) - (1+eps1[Nii+i]-eta[Nii+i]) \\\n",
    "        *(eta[Nii+i]-2)*(vk_sol[i]+G3*dN) + (deps1[Nii+i]-deta[Nii+i])*(vk_sol[i]+G3*dN)\n",
    "        G4 = Dvk_sol[i]+g3*dN\n",
    "        \n",
    "        Dvk_sol[i+1] = Dvk_sol[i] + dN*(g1 + 2*g2 + 2*g3 + g4)/6\n",
    "        vk_sol[i+1] = vk_sol[i] + dN*(G1 + 2*G2 + 2*G3 + G4)/6\n",
    "        \n",
    "    Re_zeta = uk_sol/(np.sqrt(2*eps1[Nii:Nff+1])*a[Nii:Nff+1])\n",
    "    Im_zeta = vk_sol/(np.sqrt(2*eps1[Nii:Nff+1])*a[Nii:Nff+1])\n",
    "    P_zeta  = k**3 *(Re_zeta[-1]**2 + Im_zeta[-1]**2)/(2*np.pi**2)\n",
    "    return P_zeta"
   ]
  },
  {
   "cell_type": "code",
   "execution_count": 3,
   "metadata": {},
   "outputs": [],
   "source": [
    "k = 5*np.logspace(-2, 19, 1500)\n",
    "P_zeta = np.zeros(1500)\n",
    "\n",
    "for i in range(1500):\n",
    "    P_zeta[i] = mode_evolve(k[i], N, phi, dphi)\n"
   ]
  },
  {
   "cell_type": "code",
   "execution_count": 4,
   "metadata": {},
   "outputs": [
    {
     "data": {
      "image/png": "[encoded data removed]",
      "text/plain": [
       "<Figure size 432x288 with 1 Axes>"
      ]
     },
     "metadata": {
      "needs_background": "light"
     },
     "output_type": "display_data"
    }
   ],
   "source": [
    "nn_i = round(12.2/dN)\n",
    "nn_f = -100\n",
    "k_prime = a[nn_i:nn_f]*H[nn_i:nn_f]\n",
    "P_zeta_SR = H[nn_i:nn_f]**2 /(8*np.pi*np.pi*eps1[nn_i:nn_f])\n",
    "\n",
    "fig, ax = plt.subplots()\n",
    "plt.plot(k, P_zeta, c='firebrick', label='Mukhanov-Sasaki')\n",
    "plt.plot(k_prime, P_zeta_SR, '--', c='darkorange', label='slow-roll')\n",
    "plt.xscale('log')\n",
    "plt.yscale('log')\n",
    "x_major = tk.LogLocator(base = 10.0, numticks = 12)\n",
    "ax.xaxis.set_major_locator(x_major)\n",
    "x_minor = tk.LogLocator(base = 10.0, subs = (0.2,0.4,0.6,0.8), numticks = 24)\n",
    "\n",
    "y_major = tk.LogLocator(base = 10.0, numticks = 8)\n",
    "ax.yaxis.set_major_locator(y_major)\n",
    "y_minor = tk.LogLocator(base = 10.0, subs = np.arange(1.0, 10.0) * 0.1, numticks = 18)\n",
    "ax.yaxis.set_minor_locator(y_minor)\n",
    "ax.xaxis.set_minor_locator(x_minor)\n",
    "ax.yaxis.set_minor_formatter(tk.NullFormatter())\n",
    "plt.xlabel(r'$k[\\rm{Mpc}^{-1}]$', fontsize=16)\n",
    "plt.ylabel(r'$\\mathcal{P}_{\\zeta}(k)$', fontsize=16)\n",
    "plt.legend()\n",
    "#plt.savefig('P_zeta2.png', dpi=300, bbox_inches='tight')\n",
    "plt.show()"
   ]
  },
  {
   "cell_type": "code",
   "execution_count": 35,
   "metadata": {},
   "outputs": [
    {
     "data": {
      "image/png": "[encoded data removed]",
      "text/plain": [
       "<Figure size 432x288 with 1 Axes>"
      ]
     },
     "metadata": {
      "needs_background": "light"
     },
     "output_type": "display_data"
    }
   ],
   "source": [
    "k1 = 0.5*np.logspace(12,13,250)\n",
    "line = 10**18*(k1/(1.9*10**14))**14\n",
    "\n",
    "fig, ax = plt.subplots()\n",
    "plt.plot(k, P_zeta, c='firebrick')\n",
    "plt.plot(k1,line,'--')\n",
    "plt.xscale('log')\n",
    "plt.yscale('log')\n",
    "x_major = tk.LogLocator(base = 10.0, numticks = 12)\n",
    "ax.xaxis.set_major_locator(x_major)\n",
    "x_minor = tk.LogLocator(base = 10.0, subs = (0.2,0.4,0.6,0.8), numticks = 24)\n",
    "\n",
    "y_major = tk.LogLocator(base = 10.0, numticks = 8)\n",
    "ax.yaxis.set_major_locator(y_major)\n",
    "y_minor = tk.LogLocator(base = 10.0, subs = np.arange(1.0, 10.0) * 0.1, numticks = 18)\n",
    "ax.yaxis.set_minor_locator(y_minor)\n",
    "ax.xaxis.set_minor_locator(x_minor)\n",
    "ax.yaxis.set_minor_formatter(tk.NullFormatter())\n",
    "plt.xlabel(r'$k[\\rm{Mpc}^{-1}]$', fontsize=16)\n",
    "plt.ylabel(r'$\\mathcal{P}_{\\zeta}(k)$', fontsize=16)\n",
    "#plt.savefig('P_zeta2.png', dpi=300, bbox_inches='tight')\n",
    "plt.show()"
   ]
  },
  {
   "cell_type": "code",
   "execution_count": 12,
   "metadata": {},
   "outputs": [
    {
     "data": {
      "text/plain": [
       "3049019002821.468"
      ]
     },
     "execution_count": 12,
     "metadata": {},
     "output_type": "execute_result"
    }
   ],
   "source": []
  },
  {
   "cell_type": "code",
   "execution_count": null,
   "metadata": {},
   "outputs": [],
   "source": []
  }
 ],
 "metadata": {
  "kernelspec": {
   "display_name": "Python 3",
   "language": "python",
   "name": "python3"
  },
  "language_info": {
   "codemirror_mode": {
    "name": "ipython",
    "version": 3
   },
   "file_extension": ".py",
   "mimetype": "text/x-python",
   "name": "python",
   "nbconvert_exporter": "python",
   "pygments_lexer": "ipython3",
   "version": "3.8.8"
  }
 },
 "nbformat": 4,
 "nbformat_minor": 4
}
